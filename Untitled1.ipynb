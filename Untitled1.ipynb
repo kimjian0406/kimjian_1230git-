{
  "nbformat": 4,
  "nbformat_minor": 0,
  "metadata": {
    "colab": {
      "provenance": [],
      "authorship_tag": "ABX9TyO3eaR+J7P3P3khfpOYcu+J"
    },
    "kernelspec": {
      "name": "python3",
      "display_name": "Python 3"
    },
    "language_info": {
      "name": "python"
    }
  },
  "cells": [
    {
      "cell_type": "markdown",
      "source": [
        "Day1\n",
        "\n",
        "Git파일 commit하는 순서\n",
        "\n",
        "git init으로 초기화\n",
        "git config를 이용한 기본 설정\n",
        "git config --list git 확인하는 명령어\n",
        "git config user.name \"1234\" 유저이름을 바꿔주는 명령어\n",
        "git config user.email \"1234@4321.com\" 유저이메일을 바꿔주는 명령어\n",
        "git status\n",
        "git add .는 git status에서 문제가 생겼을때 사용\n",
        "git reset @@@ git add으로 설정한것을 초기화하는 명령어\n",
        "mkdir ~~~~~폴더 생성 명령어\n",
        "touch ~.md 파일 생성 명령어\n",
        "clear 터미널에 모든내용을 지워주는 명령어\n",
        "pwd 지금 파일위치를 나타내는 명령어"
      ],
      "metadata": {
        "id": "kOEaDalieyVd"
      }
    },
    {
      "cell_type": "code",
      "source": [
        "admin.yaml"
      ],
      "metadata": {
        "id": "p8dn9aNbipSg"
      },
      "execution_count": null,
      "outputs": []
    }
  ]
}