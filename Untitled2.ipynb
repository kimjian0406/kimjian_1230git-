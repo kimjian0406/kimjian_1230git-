{
  "nbformat": 4,
  "nbformat_minor": 0,
  "metadata": {
    "colab": {
      "provenance": [],
      "authorship_tag": "ABX9TyPycZXyF7lHX5V2D2rlPTmo"
    },
    "kernelspec": {
      "name": "python3",
      "display_name": "Python 3"
    },
    "language_info": {
      "name": "python"
    }
  },
  "cells": [
    {
      "cell_type": "code",
      "source": [
        "id: oz\n",
        "password: 1234"
      ],
      "metadata": {
        "id": "7JolTOrGjofX"
      },
      "execution_count": null,
      "outputs": []
    }
  ]
}