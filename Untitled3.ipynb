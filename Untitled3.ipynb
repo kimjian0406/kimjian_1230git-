{
  "nbformat": 4,
  "nbformat_minor": 0,
  "metadata": {
    "colab": {
      "provenance": [],
      "authorship_tag": "ABX9TyMr64LClq6rQbxBEyjMjb0m"
    },
    "kernelspec": {
      "name": "python3",
      "display_name": "Python 3"
    },
    "language_info": {
      "name": "python"
    }
  },
  "cells": [
    {
      "cell_type": "code",
      "execution_count": null,
      "metadata": {
        "id": "tMaSDZH0jzM5"
      },
      "outputs": [],
      "source": [
        "team: oz_back\n",
        "\n",
        "leader: 은빈\n",
        "\n",
        "member:\n",
        "- 은기\n",
        "- 정건\n",
        "- 두홍\n",
        "- 가연"
      ]
    }
  ]
}