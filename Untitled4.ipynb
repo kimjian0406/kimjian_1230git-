{
  "nbformat": 4,
  "nbformat_minor": 0,
  "metadata": {
    "colab": {
      "provenance": [],
      "authorship_tag": "ABX9TyO6JnOfFQnFI5L1NYlja4p2"
    },
    "kernelspec": {
      "name": "python3",
      "display_name": "Python 3"
    },
    "language_info": {
      "name": "python"
    }
  },
  "cells": [
    {
      "cell_type": "code",
      "execution_count": null,
      "metadata": {
        "id": "PHxEe4bVkLLX"
      },
      "outputs": [],
      "source": [
        "team: oz_fullstack\n",
        "\n",
        "leader: 성훈\n",
        "\n",
        "member:\n",
        "- 남욱\n",
        "- 다경\n",
        "- 정훈"
      ]
    }
  ]
}