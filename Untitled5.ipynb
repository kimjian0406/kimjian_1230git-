{
  "nbformat": 4,
  "nbformat_minor": 0,
  "metadata": {
    "colab": {
      "provenance": [],
      "authorship_tag": "ABX9TyO1iYJBwDJsPyadh6Pk5bT2"
    },
    "kernelspec": {
      "name": "python3",
      "display_name": "Python 3"
    },
    "language_info": {
      "name": "python"
    }
  },
  "cells": [
    {
      "cell_type": "code",
      "execution_count": null,
      "metadata": {
        "id": "cgPb9i_zkp18"
      },
      "outputs": [],
      "source": [
        "team: oz_service\n",
        "\n",
        "leader: 희은\n",
        "\n",
        "member:\n",
        "- 세형\n",
        "- 수아\n",
        "- 상훈"
      ]
    }
  ]
}